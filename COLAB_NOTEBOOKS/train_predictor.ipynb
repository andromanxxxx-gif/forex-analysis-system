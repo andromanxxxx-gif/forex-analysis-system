# ========================================
# 📌 Notebook Training Predictor (XGBoost)
# ========================================

!pip install xgboost yfinance pandas scikit-learn joblib

import yfinance as yf
import pandas as pd
import numpy as np
from sklearn.model_selection import train_test_split
from sklearn.metrics import accuracy_score
import xgboost as xgb
import joblib
import os

# === 1. Ambil data harga forex (contoh: USDJPY) ===
data = yf.download("USDJPY=X", period="1y", interval="4h")

# Reset index biar ada kolom "time"
data = data.reset_index().rename(columns={
    "Datetime": "time",
    "Open": "open",
    "High": "high",
    "Low": "low",
    "Close": "close",
    "Volume": "volume"
})

# === 2. Feature engineering sederhana ===
data["return"] = data["close"].pct_change()
data["ema_200"] = data["close"].ewm(span=200).mean()
data["macd"] = data["close"].ewm(span=12).mean() - data["close"].ewm(span=26).mean()

# Target: naik (1) kalau harga berikutnya lebih tinggi
data["target"] = (data["close"].shift(-1) > data["close"]).astype(int)

data = data.dropna()

X = data[["return", "ema_200", "macd"]]
y = data["target"]

# === 3. Split data ===
X_train, X_test, y_train, y_test = train_test_split(X, y, test_size=0.2, shuffle=False)

# === 4. Training XGBoost ===
model = xgb.XGBClassifier(
    n_estimators=100,
    max_depth=5,
    learning_rate=0.05,
    subsample=0.8,
    colsample_bytree=0.8,
    random_state=42
)

model.fit(X_train, y_train)
y_pred = model.predict(X_test)

acc = accuracy_score(y_test, y_pred)
print("✅ Model Accuracy:", acc)

# === 5. Simpan model ke folder models/ ===
os.makedirs("../models", exist_ok=True)
joblib.dump(model, "../models/predictor_model.pkl")
print("✅ Model saved to ../models/predictor_model.pkl")
